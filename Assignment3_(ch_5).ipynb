{
  "cells": [
    {
      "cell_type": "markdown",
      "metadata": {
        "id": "nevCG4Qs0b8R"
      },
      "source": [
        "# DTSC 3020 – Assignment 3\n",
        "\n",
        "This exercise focuses on **if statements and conditional logic** in Python and is designed to help students practice decision-making structures.\n",
        "\n",
        "**Total points:** 5  \n",
        "**Deadline:** Friday at midnight  \n",
        "**Submission:** Upload your Python file to your GitHub repository and submit **only your GitHub link**.\n",
        "\n",
        "### Expectations\n",
        "- Write complete answers and run all cells before submission.\n",
        "- Keep the notebook clean (no unnecessary code).\n",
        "\n"
      ],
      "id": "nevCG4Qs0b8R"
    },
    {
      "cell_type": "markdown",
      "metadata": {
        "id": "gfumj0DY0b8f"
      },
      "source": [
        "## Question 1 – Movie Ticket System\n",
        "Write a Python code that checks the price of a movie ticket.\n",
        "If the age is between 0 and 11 it is Child, if between 12 and 17 it is Teen, and if 18 or older it is Adult.\n",
        "Print the category and the ticket price (you choose the price).\n",
        "Run the program with age = 16."
      ],
      "id": "gfumj0DY0b8f"
    },
    {
      "cell_type": "code",
      "metadata": {
        "id": "67TGDT6w0b8k",
        "colab": {
          "base_uri": "https://localhost:8080/"
        },
        "outputId": "c203c9a9-cd7a-4af4-a7e2-e68bed7f513c"
      },
      "execution_count": 25,
      "outputs": [
        {
          "output_type": "stream",
          "name": "stdout",
          "text": [
            "What's yer age?\n",
            "16\n",
            "Age Range: Teen\n",
            "Ticket Price: $ 8.0\n"
          ]
        }
      ],
      "source": [
        "# write your answer here\n",
        "age = int(input(\"What's yer age?\\n\"))\n",
        "\n",
        "if 0 <= age <= 11:\n",
        "  age_range = \"Child\"\n",
        "  price = 5.00\n",
        "elif 12 <= age <= 17:\n",
        "  age_range = \"Teen\"\n",
        "  price = 8.00\n",
        "elif age >= 18:\n",
        "  age_range = \"Adult\"\n",
        "  price = 12.00\n",
        "else:\n",
        "  age_range = \"Invalid Age\"\n",
        "  price = \"Please enter a valid age\"\n",
        "\n",
        "print(\"Age Range:\", age_range)\n",
        "print(\"Ticket Price: $\", price)"
      ],
      "id": "67TGDT6w0b8k"
    },
    {
      "cell_type": "markdown",
      "metadata": {
        "id": "_tUFNVKT0b8r"
      },
      "source": [
        "## Question 2 – Online Store Discount\n",
        "Write a Python code that applies a discount based on the shopping cart total.\n",
        "If the total is less than 50 dollars there is no discount, if the total is between 50 and 99 dollars there is a 10 percent discount, and if the total is 100 dollars or more there is a 20 percent discount.\n",
        "Print the original total, the discount, and the final price.\n",
        "Run the program with cart_total = 85."
      ],
      "id": "_tUFNVKT0b8r"
    },
    {
      "cell_type": "code",
      "metadata": {
        "id": "yTtX719o0b8v",
        "colab": {
          "base_uri": "https://localhost:8080/"
        },
        "outputId": "37353a8e-cbcd-41e8-cd1e-9ec1748a457a"
      },
      "execution_count": 26,
      "outputs": [
        {
          "output_type": "stream",
          "name": "stdout",
          "text": [
            "How much ya rung up for?\n",
            "85\n",
            "Total w/o Discount: $ 85\n",
            "Discount: $ 8.5\n",
            "Final Price: $ 76.5\n"
          ]
        }
      ],
      "source": [
        "# write your answer here\n",
        "cart_total = int(input(\"How much ya rung up for?\\n\"))\n",
        "\n",
        "\n",
        "if cart_total < 50:\n",
        "    discount_rate = 0.0\n",
        "\n",
        "elif 50 <= cart_total <= 99:\n",
        "    discount_rate = 0.10\n",
        "\n",
        "else:\n",
        "    cart_total >= 100\n",
        "    discount_rate = 0.20\n",
        "\n",
        "\n",
        "discount = cart_total * discount_rate\n",
        "final_price = cart_total - discount\n",
        "\n",
        "print(\"Total w/o Discount: $\", cart_total)\n",
        "print(\"Discount: $\", discount)\n",
        "print(\"Final Price: $\", final_price)"
      ],
      "id": "yTtX719o0b8v"
    },
    {
      "cell_type": "markdown",
      "metadata": {
        "id": "uOUYYC870b8x"
      },
      "source": [
        "## Question 3 – Exam Grading\n",
        "Write a Python code that gives a letter grade for a score.\n",
        "If the score is between 90 and 100 the grade is A, if between 80 and 89 the grade is B, if between 70 and 79 the grade is C, if between 60 and 69 the grade is D, and if below 60 the grade is F.\n",
        "Print the grade and a short message.\n",
        "Run the program with score = 73."
      ],
      "id": "uOUYYC870b8x"
    },
    {
      "cell_type": "code",
      "metadata": {
        "id": "HDtf_YLG0b8y",
        "colab": {
          "base_uri": "https://localhost:8080/"
        },
        "outputId": "6393702e-3e25-4fbb-a58f-fd71f27d41d1"
      },
      "execution_count": 27,
      "outputs": [
        {
          "output_type": "stream",
          "name": "stdout",
          "text": [
            "How'd ya do?!!?\n",
            " 73\n",
            "Grade: C\n",
            "Message: the bare minimum...\n"
          ]
        }
      ],
      "source": [
        "# write your answer here\n",
        "score = int(input(\"How'd ya do?!!?\\n \"))\n",
        "\n",
        "if 90 <= score <= 100:\n",
        "    grade = \"A\"\n",
        "    message = \"great job!!!!!\"\n",
        "\n",
        "elif 80 <= score <= 89:\n",
        "    grade = \"B\"\n",
        "    message = \"second place is the first loser!!!\"\n",
        "\n",
        "elif 70 <= score <= 79:\n",
        "    grade = \"C\"\n",
        "    message = \"the bare minimum...\"\n",
        "\n",
        "elif 60 <= score <= 69:\n",
        "    grade = \"D\"\n",
        "    message = \"oof.....\"\n",
        "\n",
        "else:\n",
        "    grade = \"F\"\n",
        "    message = \"yeouch!!! FAILURE!!!!!\"\n",
        "\n",
        "print(\"Grade:\", grade)\n",
        "print(\"Message:\", message)"
      ],
      "id": "HDtf_YLG0b8y"
    },
    {
      "cell_type": "markdown",
      "metadata": {
        "id": "ZCIKM6Xs0b80"
      },
      "source": [
        "## Question 4 – Parking Fee\n",
        "Write a Python code that calculates parking fees.\n",
        "If the car is parked for 0 to 2 hours the parking is free, if the car is parked for 3 to 5 hours the fee is 3 dollars per hour, and if the car is parked for more than 5 hours the fee is 3 dollars per hour for the first three hours after free and then 5 dollars per hour for the rest.\n",
        "Print the number of hours and the total fee.\n",
        "Run the program with hours = 6."
      ],
      "id": "ZCIKM6Xs0b80"
    },
    {
      "cell_type": "code",
      "metadata": {
        "id": "g3a_sPo50b81",
        "colab": {
          "base_uri": "https://localhost:8080/"
        },
        "outputId": "091013b4-c957-4fbf-c8f1-6e02958344d7"
      },
      "execution_count": 28,
      "outputs": [
        {
          "output_type": "stream",
          "name": "stdout",
          "text": [
            "How long were ya parked, huh?!?!!?\n",
            "6\n",
            "Parked for: 6\n",
            "Total fee: $ 14\n"
          ]
        }
      ],
      "source": [
        "# write your answer here\n",
        "hours = int(input(\"How long were ya parked, huh?!?!!?\\n\"))\n",
        "\n",
        "if 0 <= hours <= 2:\n",
        "    fee = 0\n",
        "\n",
        "elif 3 <= hours <= 5:\n",
        "    fee = hours * 3\n",
        "\n",
        "else:\n",
        "    fee = (3 * 3) + (hours - 5) * 5\n",
        "\n",
        "print(\"Parked for:\", hours)\n",
        "print(\"Total fee: $\", fee)"
      ],
      "id": "g3a_sPo50b81"
    },
    {
      "cell_type": "markdown",
      "metadata": {
        "id": "XBf0-SPz0b83"
      },
      "source": [
        "## Question 5 – Cafeteria Menu\n",
        "Write a Python code that creates a list with three food items.\n",
        "Check if an order is in the list.\n",
        "If the item is in the list print a confirmation, and if the item is not in the list print a polite message.\n",
        "Run the program with menu = ['pizza','salad','sandwich'] and order = 'salad'."
      ],
      "id": "XBf0-SPz0b83"
    },
    {
      "cell_type": "code",
      "metadata": {
        "id": "y52UEMoX0b85",
        "colab": {
          "base_uri": "https://localhost:8080/"
        },
        "outputId": "476bc6c3-8e29-4bd1-f7f3-1a9d5c8e3d47"
      },
      "execution_count": 32,
      "outputs": [
        {
          "output_type": "stream",
          "name": "stdout",
          "text": [
            "Choose somethin' from that there menu!\n",
            "Lowercase only...\n",
            "salad\n",
            "Salad is available! Your order has been confirmed.\n"
          ]
        }
      ],
      "source": [
        "# write your answer here\n",
        "menu = ['pizza', 'salad', 'sandwich']\n",
        "order = input(\"Choose somethin' from that there menu!\\nLowercase only...\\n\")\n",
        "\n",
        "if order in menu:\n",
        "    print(f\"{order.title()} is available! Your order has been confirmed.\")\n",
        "\n",
        "else:\n",
        "    print(f\"Sorry, {order.title()} is not on the menu.\")"
      ],
      "id": "y52UEMoX0b85"
    },
    {
      "cell_type": "markdown",
      "metadata": {
        "id": "-60rL71F0b86"
      },
      "source": [
        "## Question 6 – Job Application Filter\n",
        "Write a Python code that checks if a person is eligible for a job.\n",
        "If the person is older than 22 and has more than 2 years of experience print Accepted.\n",
        "Otherwise print Not Accepted.\n",
        "Run the program with age = 23 and experience = 1."
      ],
      "id": "-60rL71F0b86"
    },
    {
      "cell_type": "code",
      "metadata": {
        "id": "-h964CqY0b88",
        "colab": {
          "base_uri": "https://localhost:8080/"
        },
        "outputId": "d7c1ff06-f56c-4a84-ff19-62824d42bc77"
      },
      "execution_count": 38,
      "outputs": [
        {
          "output_type": "stream",
          "name": "stdout",
          "text": [
            "How many years ya got?\n",
            "23\n",
            "...and how about that experience in that there workforce?\n",
            "1\n",
            "Not Accepted\n"
          ]
        }
      ],
      "source": [
        "# write your answer here\n",
        "age = int(input(\"How many years ya got?\\n\"))\n",
        "experience = int(input(\"...and how about that experience in that there workforce?\\n\"))\n",
        "\n",
        "if age > 22 and experience > 2:\n",
        "    print(\"Accepted\")\n",
        "else:\n",
        "    print(\"Not Accepted\")"
      ],
      "id": "-h964CqY0b88"
    },
    {
      "cell_type": "markdown",
      "metadata": {
        "id": "MOMMxnuE0b8-"
      },
      "source": [
        "## Question 7 – Clothing Advice\n",
        "Write a Python code that suggests clothing based on the temperature.\n",
        "If the temperature is below 10 print Coat and gloves, if the temperature is between 10 and 19 print Jacket, and if the temperature is 20 or more print T-shirt.\n",
        "Run the program with temperature = 15."
      ],
      "id": "MOMMxnuE0b8-"
    },
    {
      "cell_type": "code",
      "metadata": {
        "id": "V6RtrCOa0b8_",
        "colab": {
          "base_uri": "https://localhost:8080/"
        },
        "outputId": "606ad02b-9b5e-4710-dc0f-06126a73c018"
      },
      "execution_count": 39,
      "outputs": [
        {
          "output_type": "stream",
          "name": "stdout",
          "text": [
            "What's the temp outside 'ere?\n",
            "15\n",
            "Jacket\n"
          ]
        }
      ],
      "source": [
        "# write your answer here\n",
        "temperature = int(input(\"What's the temp outside \\'ere?\\n\"))\n",
        "\n",
        "if temperature < 10:\n",
        "    print(\"Need some of them coat 'n' gloves\")\n",
        "\n",
        "elif 10 <= temperature <= 19:\n",
        "    print(\"Ya need a jacket\")\n",
        "\n",
        "else:  # 20 or more\n",
        "    print(\"T-Shirt'sa plenty\")"
      ],
      "id": "V6RtrCOa0b8_"
    },
    {
      "cell_type": "markdown",
      "metadata": {
        "id": "R-i9Jzpn0b9A"
      },
      "source": [
        "## Question 8 – Loan Eligibility\n",
        "Write a Python code that checks loan eligibility.\n",
        "If the salary is at least 3000 and the credit score is at least 650 print Loan Approved, otherwise print Loan Denied.\n",
        "Run the program with salary = 3500 and credit_score = 640."
      ],
      "id": "R-i9Jzpn0b9A"
    },
    {
      "cell_type": "code",
      "metadata": {
        "id": "2M0s0bC40b9B",
        "colab": {
          "base_uri": "https://localhost:8080/"
        },
        "outputId": "04d62843-a9ee-45b2-9f3c-0256fcf395ff"
      },
      "execution_count": 41,
      "outputs": [
        {
          "output_type": "stream",
          "name": "stdout",
          "text": [
            "How much ya make?\n",
            "3500\n",
            "...and that credit score?\n",
            "640\n",
            "HAHAHA! Loan Denied\n"
          ]
        }
      ],
      "source": [
        "# write your answer here\n",
        "salary = int(input(\"How much ya make?\\n\"))\n",
        "credit_score = int(input(\"...and that credit score?\\n\"))\n",
        "\n",
        "if salary >= 3000 and credit_score >= 650:\n",
        "    print(\"Loan Approved\")\n",
        "\n",
        "else:\n",
        "    print(\"HAHAHA! Loan Denied\")"
      ],
      "id": "2M0s0bC40b9B"
    },
    {
      "cell_type": "markdown",
      "metadata": {
        "id": "I0WmTyFv0b9D"
      },
      "source": [
        "## Question 9 – Password Strength\n",
        "Write a Python code that checks if a password is strong, medium, or weak based on its length.\n",
        "If the password has fewer than 6 characters it is Weak, if it has 6 to 10 characters it is Medium, and if it has more than 10 characters it is Strong.\n",
        "Print the strength.\n",
        "Run the program with password = 'hello123'."
      ],
      "id": "I0WmTyFv0b9D"
    },
    {
      "cell_type": "code",
      "metadata": {
        "id": "Jm8fu7ft0b9E",
        "colab": {
          "base_uri": "https://localhost:8080/"
        },
        "outputId": "a5cbd5b6-13c8-4d0e-e10c-73b22a944fb4"
      },
      "execution_count": 43,
      "outputs": [
        {
          "output_type": "stream",
          "name": "stdout",
          "text": [
            "Now I do understand that it's normally bad practice to give out passwords and all that veshch, but ya gotta believe me when I say I ain't plannin' on stealing that identity of yours or nothing.\n",
            "Anyway, what's that password?\n",
            "hello123\n",
            "Password strength: Medium\n"
          ]
        }
      ],
      "source": [
        "# write your answer here\n",
        "password = input(\"Now I do understand that it's normally bad practice to give out passwords and all that veshch, but ya gotta believe me when I say I ain't plannin\\' on stealing that identity of yours or nothing.\\nAnyway, what\\'s that password?\\n\")\n",
        "length = len(password)\n",
        "\n",
        "if length < 6:\n",
        "    strength = \"Weak\"\n",
        "\n",
        "elif 6 <= length <= 10:\n",
        "    strength = \"Medium\"\n",
        "\n",
        "else:  # more than 10\n",
        "    strength = \"Strong\"\n",
        "\n",
        "print(\"Password strength:\", strength)"
      ],
      "id": "Jm8fu7ft0b9E"
    },
    {
      "cell_type": "markdown",
      "metadata": {
        "id": "kgKSm4WB0b9F"
      },
      "source": [
        "## Question 10 – Guest List Checker\n",
        "Write a Python code that creates a list with three invited guests.\n",
        "Define a variable for a guest name.\n",
        "Check if the guest name is in the list.\n",
        "If the guest is in the list print Welcome, and if the guest is not in the list print Not on the list.\n",
        "Run the program with guest = 'Sara'."
      ],
      "id": "kgKSm4WB0b9F"
    },
    {
      "cell_type": "code",
      "metadata": {
        "id": "4pyiTbMT0b9G",
        "colab": {
          "base_uri": "https://localhost:8080/"
        },
        "outputId": "8291671b-894d-4e99-f224-7741b721b161"
      },
      "execution_count": 47,
      "outputs": [
        {
          "output_type": "stream",
          "name": "stdout",
          "text": [
            "Give me that name of the guest and all.\n",
            "If it ain't capitalized properly, I ain't gonna accept it!\n",
            "Sara\n",
            "Welcome!\n"
          ]
        }
      ],
      "source": [
        "# write your answer here\n",
        "guests = [\"Sara\", \"Tommy\", \"Peter\"]\n",
        "guest = input(\"Give me that name of the guest and all.\\nIf it ain\\'t capitalized properly, I ain\\'t gonna accept it!\\n\")\n",
        "\n",
        "if guest in guests:\n",
        "    print(\"Welcome!\")\n",
        "\n",
        "else:\n",
        "    print(\"Not on the list!!\")\n"
      ],
      "id": "4pyiTbMT0b9G"
    }
  ],
  "metadata": {
    "kernelspec": {
      "display_name": "Python 3",
      "language": "python",
      "name": "python3"
    },
    "language_info": {
      "name": "python",
      "version": "3.x"
    },
    "colab": {
      "provenance": []
    }
  },
  "nbformat": 4,
  "nbformat_minor": 5
}