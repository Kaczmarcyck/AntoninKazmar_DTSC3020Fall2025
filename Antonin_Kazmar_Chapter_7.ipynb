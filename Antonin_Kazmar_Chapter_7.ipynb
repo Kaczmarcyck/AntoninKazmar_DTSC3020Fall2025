{
  "nbformat": 4,
  "nbformat_minor": 0,
  "metadata": {
    "colab": {
      "provenance": []
    },
    "kernelspec": {
      "name": "python3",
      "display_name": "Python 3"
    },
    "language_info": {
      "name": "python"
    }
  },
  "cells": [
    {
      "cell_type": "markdown",
      "source": [
        "#Write a Python program that simulates a self-checkout system.**\n",
        "Use this price list: prices: apple= 1 ,  bread= 2.5 ,  milk=5 ,  egg= 6\n",
        "\n",
        "Program requirements:\n",
        "\n",
        "The program should repeatedly ask the user to enter an item name or enter \"pay\".\n",
        "\n",
        "\n",
        "• Valid inputs are the names of the **items above ** or the word \"pay\".\n",
        "\n",
        "\n",
        "If the entered item exists in the price list:\n",
        "\n",
        "• Add its price to the running total.\n",
        "\n",
        "\n",
        "• Print the message: \"Added , running total: $\".\n",
        "\n",
        "\n",
        "If the entered item does not exist in the price list:\n",
        "\n",
        "• Print \"Item not found\".\n",
        "\n",
        "If the user types \"pay\":\n",
        "\n",
        "• Stop asking for input.\n",
        "\n",
        "Show the following three values:\n",
        "\n",
        "\n",
        "**Subtotal: the sum of all valid items entered.**\n",
        "\n",
        "**Tax: 8% of the subtotal. (0.08 * total)**\n",
        "\n",
        "**Final total: subtotal + tax.**\n",
        "\n",
        "\n",
        "Run your program with this purchase list. For example, for one person whose purchase is:apple, pizza, bread, pay *italicised text*"
      ],
      "metadata": {
        "id": "t1xs1X02Owtz"
      }
    },
    {
      "cell_type": "code",
      "source": [],
      "metadata": {
        "id": "WDiDPA752eSd"
      },
      "execution_count": null,
      "outputs": []
    },
    {
      "cell_type": "code",
      "execution_count": 16,
      "metadata": {
        "id": "nTH6mvq1OqHP",
        "colab": {
          "base_uri": "https://localhost:8080/"
        },
        "outputId": "3a5d1375-bb24-4866-b369-1864e33ed1e8"
      },
      "outputs": [
        {
          "output_type": "stream",
          "name": "stdout",
          "text": [
            "Enter that there name of that there item, and when ye be done ya gotta type 'PAY'!!!!\n",
            "apple\n",
            "Yer apple has been added, that total so far is...1.00\n",
            "Enter that there name of that there item, and when ye be done ya gotta type 'PAY'!!!!\n",
            "pay\n",
            "\n",
            "Yer Subtotal...$1.00\n",
            "The tax..................$0.08\n",
            "and finally..................................$1.08\n"
          ]
        }
      ],
      "source": [
        "prices = {'apple': 1, 'bread': 2.5, 'milk': 5, 'egg': 6}\n",
        "total = 0\n",
        "\n",
        "while True:\n",
        "    item = input(\"Enter that there name of that there item, and when ye be done ya gotta type 'PAY'!!!!\\n\").lower()\n",
        "\n",
        "    if item == \"pay\":\n",
        "        break\n",
        "    elif item in prices:\n",
        "        total += prices[item]\n",
        "        print(f\"Yer {item} has been added, that total so far is...{total:.2f}\")\n",
        "    else:\n",
        "        print(\"Item AIN'T FOUND!\")\n",
        "\n",
        "tax = 0.08 * total\n",
        "final_total = total + tax\n",
        "\n",
        "print(f\"\\nYer Subtotal...${total:.2f}\")\n",
        "print(f\"The tax..................${tax:.2f}\")\n",
        "print(f\"and finally..................................${final_total:.2f}\")"
      ]
    }
  ]
}