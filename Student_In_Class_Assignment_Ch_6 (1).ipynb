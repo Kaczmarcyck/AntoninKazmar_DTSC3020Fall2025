{
  "nbformat": 4,
  "nbformat_minor": 0,
  "metadata": {
    "colab": {
      "provenance": []
    },
    "kernelspec": {
      "name": "python3",
      "display_name": "Python 3"
    },
    "language_info": {
      "name": "python"
    }
  },
  "cells": [
    {
      "cell_type": "markdown",
      "source": [
        "### ✅ Final Class Exercise: Library Borrowing (using key-value)\n",
        "You are given a dictionary that shows how many books each student has borrowed. Write a Python program to:\n",
        "1.  Print the names of students who borrowed more than 2 books.\n",
        "2. calculate the total number of borrowed books.\n"
      ],
      "metadata": {
        "id": "p337feJZG6g0"
      }
    },
    {
      "cell_type": "code",
      "source": [
        "borrowed_books = {\n",
        "    'Ali': 1,\n",
        "    'Sara': 3,\n",
        "    'Reza': 0,\n",
        "    'Lina': 4,\n",
        "    'Omid': 2\n",
        "}\n",
        "\n",
        "# write your answer here part 1\n",
        "print(\"Students that borrowed >2 books: \\n\")\n",
        "for name, count in borrowed_books.items():\n",
        "  if count > 2:\n",
        "    print(name)\n",
        "\n",
        "# write your answer here part 2\n",
        "total = sum(borrowed_books.values())\n",
        "print(\"\\n\\nTotal number of borrowed books:\", total)"
      ],
      "metadata": {
        "id": "OibWnbqOG_cX",
        "colab": {
          "base_uri": "https://localhost:8080/"
        },
        "outputId": "3229273a-8663-4e17-b0ed-f7f5839eab5d"
      },
      "execution_count": 5,
      "outputs": [
        {
          "output_type": "stream",
          "name": "stdout",
          "text": [
            "Students that borrowed >2 books: \n",
            "\n",
            "Sara\n",
            "Lina\n",
            "\n",
            "\n",
            "Total number of borrowed books: 10\n"
          ]
        }
      ]
    }
  ]
}