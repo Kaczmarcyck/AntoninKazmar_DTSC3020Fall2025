{
  "cells": [
    {
      "cell_type": "markdown",
      "metadata": {
        "id": "view-in-github",
        "colab_type": "text"
      },
      "source": [
        "<a href=\"https://colab.research.google.com/github/Kaczmarcyck/AntoninKazmar_DTSC3020Fall2025/blob/main/Assignment5_Ch_10%2611.ipynb\" target=\"_parent\"><img src=\"https://colab.research.google.com/assets/colab-badge.svg\" alt=\"Open In Colab\"/></a>"
      ]
    },
    {
      "cell_type": "markdown",
      "id": "9903d230",
      "metadata": {
        "id": "9903d230"
      },
      "source": [
        "# Assignment5: CRM Cleanup @ **DalaShop**\n",
        "*Files (Ch.10), Exceptions (Ch.10), Unit Tests (Ch.11), and Regular Expressions*  \n",
        ".....\n",
        "\n",
        "**Total: 3 points**  (Two questions, 1.5 pts each)  \n",
        "\n",
        "> This assignment is scenario-based and aligned with Python Crash Course Ch.10 (files & exceptions), Ch.11 (unit testing with `unittest`), and Regular Expressions."
      ]
    },
    {
      "cell_type": "markdown",
      "id": "d6487401",
      "metadata": {
        "id": "d6487401"
      },
      "source": [
        "## Scenario\n",
        "You are a data intern at an online retailer called **DalaShop**.  \n",
        "Sales exported a **raw contacts** file from the CRM. It contains customer names, emails, and phone numbers, but the formatting is messy and some emails are invalid.  \n",
        "Your tasks:\n",
        "\n",
        "1. **Clean** the contacts (Files + Exceptions + Regex).  \n",
        "2. **Write unit tests** to make sure your helper functions work correctly and keep working in the future."
      ]
    },
    {
      "cell_type": "markdown",
      "id": "0bd1712f",
      "metadata": {
        "id": "0bd1712f"
      },
      "source": [
        "## Data file (given by the company): `contacts_raw.txt`\n",
        "Use this exact sample data (you may extend it for your own testing, but do **not** change it when submitting).  \n",
        "Run the next cell once to create the file beside your notebook."
      ]
    },
    {
      "cell_type": "code",
      "execution_count": 10,
      "id": "c395a1a8",
      "metadata": {
        "id": "c395a1a8",
        "colab": {
          "base_uri": "https://localhost:8080/",
          "height": 0
        },
        "outputId": "e81286c7-f5e7-4258-e5af-d1d9adb38e34"
      },
      "outputs": [
        {
          "output_type": "stream",
          "name": "stdout",
          "text": [
            "Wrote contacts_raw.txt with sample DalaShop data.\n"
          ]
        }
      ],
      "source": [
        "# Create the provided company dataset file\n",
        "with open(\"contacts_raw.txt\", \"w\", encoding=\"utf-8\") as f:\n",
        "    f.write('Alice Johnson <alice@example.com> , +1 (469) 555-1234\\nBob Roberts <bob[at]example.com> , 972-555-777\\nSara M. , sara@mail.co , 214 555 8888\\n\"Mehdi A.\" <mehdi.ay@example.org> , (469)555-9999\\nDelaram <delaram@example.io>, +1-972-777-2121\\nNima <NIMA@example.io> , 972.777.2121\\nduplicate <Alice@Example.com> , 469 555 1234')\n",
        "print(\"Wrote contacts_raw.txt with sample DalaShop data.\")"
      ]
    },
    {
      "cell_type": "markdown",
      "id": "1b535f73",
      "metadata": {
        "id": "1b535f73"
      },
      "source": [
        "## Q1 (1.5 pts) — CRM cleanup with Files, Exceptions, and Regex\n",
        "Implement `q1_crm_cleanup.py` to:\n",
        "\n",
        "1. **Read** `contacts_raw.txt` using `pathlib` and `with`. If the file is missing, **handle** it gracefully with `try/except FileNotFoundError` (print a friendly message; do not crash).\n",
        "2. **Validate emails** with a simple regex (`r\"[A-Za-z0-9._%+-]+@[A-Za-z0-9.-]+\\.[A-Za-z]{2,}\"`).  \n",
        "   - Trim whitespace with `strip()` before checking.  \n",
        "   - Use **full** matching (not partial).\n",
        "3. **Normalize phone numbers:** remove all non-digits (e.g., with `re.sub(r\"\\D\", \"\", raw)`).  \n",
        "   - If the result has **≥ 10 digits**, keep the **last 10 digits**.  \n",
        "   - Otherwise, return an **empty string** (`\"\"`).\n",
        "4. **Filter rows:** keep **only** rows with a valid email.\n",
        "5. **Deduplicate:** remove duplicates by **email** using **case-insensitive** comparison (e.g., `email.casefold()`). **Keep the first occurrence** and drop later duplicates.\n",
        "6. **Output CSV:** write to `contacts_clean.csv` with **columns exactly** `name,email,phone` (UTF-8).  \n",
        "7. **Preserve input order:** the order of rows in `contacts_clean.csv` must match the **first appearance** order from the input file. **Do not sort** the rows.\n",
        "\n",
        "**Grading rubric (1.5 pts):**\n",
        "- (0.4) File read/write via `pathlib` + graceful `FileNotFoundError` handling  \n",
        "- (0.5) Correct email regex validation + filtering  \n",
        "- (0.4) Phone normalization + case-insensitive de-dup (keep first)  \n",
        "- (0.2) Clean code, clear names, minimal docstrings/comments"
      ]
    },
    {
      "cell_type": "code",
      "source": [
        "from pathlib import Path\n",
        "import re\n",
        "import csv\n",
        "\n",
        "EMAIL_REGEX = re.compile(r\"[A-Za-z0-9._%+-]+@[A-Za-z0-9.-]+\\.[A-Za-z]{2,}\")\n",
        "\n",
        "def is_valid_email(email: str) -> bool:\n",
        "    email = email.strip()\n",
        "    return bool(EMAIL_REGEX.fullmatch(email))\n",
        "\n",
        "def normalize_phone(phone: str) -> str:\n",
        "    digits = re.sub(r\"\\D\", \"\", phone)\n",
        "    if len(digits) >= 10:\n",
        "        return digits[-10:]\n",
        "    return \"\"\n",
        "\n",
        "def crm_cleanup(input_file=\"contacts_raw.txt\", output_file=\"contacts_clean.csv\"):\n",
        "    input_path = Path(input_file)\n",
        "    if not input_path.exists():\n",
        "        print(f\"{input_file}: failed to open file\")\n",
        "        return 1\n",
        "\n",
        "    cleaned = []\n",
        "    seen_emails = set()\n",
        "\n",
        "    with input_path.open(encoding=\"utf-8\") as f:\n",
        "        for line in f:\n",
        "            try:\n",
        "                name_part, rest = line.split(\"<\", 1)\n",
        "                email_part, phone_part = rest.split(\">\", 1)\n",
        "                name = name_part.strip()\n",
        "                email = email_part.strip()\n",
        "                phone = phone_part.strip().strip(\",\").strip()\n",
        "            except ValueError:\n",
        "                # Skip malformed lines gracefully\n",
        "                continue\n",
        "\n",
        "            if not is_valid_email(email):\n",
        "                continue\n",
        "\n",
        "            if email.casefold() in seen_emails:\n",
        "                continue\n",
        "\n",
        "            seen_emails.add(email.casefold())\n",
        "            phone_clean = normalize_phone(phone)\n",
        "            cleaned.append((name, email, phone_clean))\n",
        "\n",
        "    # Write output CSV\n",
        "    with open(output_file, \"w\", newline=\"\", encoding=\"utf-8\") as csvfile:\n",
        "        writer = csv.writer(csvfile)\n",
        "        writer.writerow([\"name\", \"email\", \"phone\"])\n",
        "        writer.writerows(cleaned)\n",
        "\n",
        "    print(f\"Wrote {output_file} with {len(cleaned)} contacts.\")\n",
        "    return 0\n",
        "\n",
        "\n",
        "if __name__ == \"__main__\":\n",
        "    crm_cleanup()\n"
      ],
      "metadata": {
        "id": "gO9xaHmKNlax",
        "colab": {
          "base_uri": "https://localhost:8080/",
          "height": 0
        },
        "outputId": "c3fb2998-b105-4599-ceb4-5e33d4c8e057"
      },
      "id": "gO9xaHmKNlax",
      "execution_count": 6,
      "outputs": [
        {
          "output_type": "stream",
          "name": "stdout",
          "text": [
            "Wrote contacts_clean.csv with 4 contacts.\n"
          ]
        }
      ]
    },
    {
      "cell_type": "markdown",
      "id": "258c5b04",
      "metadata": {
        "id": "258c5b04"
      },
      "source": [
        "## Q2 (1.5 pts) — Unit testing with `unittest`\n",
        "Create tests in `test_crm_cleanup.py` that cover at least:\n",
        "\n",
        "1. **Email validation**: valid/invalid variations.  \n",
        "2. **Phone normalization**: parentheses, dashes, spaces, country code; too-short cases.  \n",
        "3. **Parsing**: from a small multi-line string (not from a file), assert the exact structured rows (name/email/phone).  \n",
        "4. **De-duplication**: demonstrate that a case-variant duplicate email is dropped (first occurrence kept).\n",
        "\n",
        "\n"
      ]
    },
    {
      "cell_type": "code",
      "source": [
        "# test_crm_cleanup.py\n",
        "import unittest\n",
        "import re\n",
        "import csv\n",
        "from pathlib import Path\n",
        "\n",
        "# Copy the relevant functions from the q1_crm_cleanup cell\n",
        "# Reverted to the original regex from the prompt\n",
        "EMAIL_REGEX = re.compile(r\"[A-Za-z0-9._%+-]+@[A-Za-z0-9.-]+\\.[A-Za-z]{2,}\")\n",
        "\n",
        "def is_valid_email(email: str) -> bool:\n",
        "    email = email.strip()\n",
        "    # Based on the provided regex, this is considered valid. No extra check needed here based on prompt.\n",
        "    return bool(EMAIL_REGEX.fullmatch(email))\n",
        "\n",
        "def normalize_phone(phone: str) -> str:\n",
        "    digits = re.sub(r\"\\D\", \"\", phone)\n",
        "    if len(digits) >= 10:\n",
        "        return digits[-10:]\n",
        "    return \"\"\n",
        "\n",
        "# Although not directly tested in this cell, the parsing logic is needed for the parsing test\n",
        "def parse_contact_line(line: str):\n",
        "    line = line.strip()\n",
        "    # Pattern for <email> format\n",
        "    match_angle_brackets = re.match(r\"(.*?)\\s*<(.*?)>\\s*,?\\s*(.*)\", line)\n",
        "    if match_angle_brackets:\n",
        "        name, email, phone = match_angle_brackets.groups()\n",
        "        name = name.strip()\n",
        "        # Handle quoted names\n",
        "        if name.startswith('\"') and name.endswith('\"'):\n",
        "            name = name[1:-1]\n",
        "        return name, email.strip(), phone.strip()\n",
        "\n",
        "    # Pattern for comma-separated format (name, email, phone)\n",
        "    match_comma_separated = re.match(r\"(.*?)\\s*,\\s*(.*?)\\s*,\\s*(.*)\", line)\n",
        "    if match_comma_separated:\n",
        "        name, email, phone = match_comma_separated.groups()\n",
        "        name = name.strip()\n",
        "        # Handle quoted names\n",
        "        if name.startswith('\"') and name.endswith('\"'):\n",
        "            name = name[1:-1]\n",
        "        return name, email.strip(), phone.strip()\n",
        "\n",
        "    return None, None, None\n",
        "\n",
        "\n",
        "class TestCRMHelpers(unittest.TestCase):\n",
        "    def test_valid_emails(self):\n",
        "        self.assertTrue(is_valid_email(\"alice@example.com\"))\n",
        "        self.assertTrue(is_valid_email(\"bob.smith+promo@company.org\"))\n",
        "        self.assertTrue(is_valid_email(\"user123@sub.domain.co.uk\"))\n",
        "        # Based on the provided regex, this is considered valid\n",
        "        self.assertTrue(is_valid_email(\"user@domain..com\"))\n",
        "\n",
        "\n",
        "    def test_invalid_emails(self):\n",
        "        self.assertFalse(is_valid_email(\"alice@\"))\n",
        "        self.assertFalse(is_valid_email(\"bob[at]example.com\"))\n",
        "        self.assertFalse(is_valid_email(\"user@domain\"))\n",
        "        self.assertFalse(is_valid_email(\"user@.com\")) # domain starts with dot\n",
        "        self.assertFalse(is_valid_email(\"user@domain.\")) # domain ends with dot\n",
        "\n",
        "\n",
        "    def test_phone_normalization(self):\n",
        "        self.assertEqual(normalize_phone(\"+1 (469) 555-1234\"), \"4695551234\")\n",
        "        self.assertEqual(normalize_phone(\"555-1234\"), \"\")  # too short\n",
        "        self.assertEqual(normalize_phone(\"001-214-987-6543\"), \"2149876543\")\n",
        "        self.assertEqual(normalize_phone(\"(972)555-9999\"), \"9725559999\")\n",
        "        self.assertEqual(normalize_phone(\"972.777.2121\"), \"9727772121\")\n",
        "        self.assertEqual(normalize_phone(\"214 555 8888\"), \"2145558888\")\n",
        "        self.assertEqual(normalize_phone(\"123\"), \"\") # too short\n",
        "        self.assertEqual(normalize_phone(\"\"), \"\") # empty string\n",
        "\n",
        "\n",
        "    def test_parsing_and_deduplication(self):\n",
        "        raw_data = \"\"\"Alice Johnson <alice@example.com> , +1 (469) 555-1234\n",
        "Bob Roberts <bob[at]example.com> , 972-555-777\n",
        "Sara M. , sara@mail.co , 214 555 8888\n",
        "\"Mehdi A.\" <mehdi.ay@example.org> , (469)555-9999\n",
        "Delaram <delaram@example.io>, +1-972-777-2121\n",
        "Nima <NIMA@example.io> , 972.777.2121\n",
        "duplicate <Alice@Example.com> , 469 555 1234\n",
        "Malformed Line Without Email\n",
        "\"\"\"\n",
        "        # Simulate the cleanup logic without file I/O\n",
        "        cleaned = []\n",
        "        seen_emails = set()\n",
        "\n",
        "        for line in raw_data.strip().split('\\n'):\n",
        "            name, email, phone = parse_contact_line(line)\n",
        "\n",
        "            if not email or not is_valid_email(email): # Check if email is not None and valid\n",
        "                continue\n",
        "\n",
        "            if email.casefold() in seen_emails:\n",
        "                continue\n",
        "\n",
        "            seen_emails.add(email.casefold())\n",
        "            phone_clean = normalize_phone(phone)\n",
        "            cleaned.append((name, email, phone_clean))\n",
        "\n",
        "        # Expected results after filtering and deduplication (case-insensitive email)\n",
        "        expected_corrected = [\n",
        "            (\"Alice Johnson\", \"alice@example.com\", \"4695551234\"),\n",
        "            (\"Sara M.\", \"sara@mail.co\", \"2145558888\"),\n",
        "            (\"Mehdi A.\", \"mehdi.ay@example.org\", \"4695559999\"),\n",
        "            (\"Delaram\", \"delaram@example.io\", \"9727772121\"),\n",
        "            (\"Nima\", \"NIMA@example.io\", \"9727772121\"), # Added Nima to the expected list\n",
        "        ]\n",
        "\n",
        "        self.assertEqual(cleaned, expected_corrected)\n",
        "\n",
        "\n",
        "if __name__ == \"__main__\":\n",
        "    unittest.main(argv=['first-arg-is-ignored'], exit=False) # Added arguments to run in Colab"
      ],
      "metadata": {
        "id": "_M18cJw2NqZm",
        "colab": {
          "base_uri": "https://localhost:8080/"
        },
        "outputId": "33e24d02-9266-47f3-ff1d-2764de81e0c7"
      },
      "id": "_M18cJw2NqZm",
      "execution_count": 26,
      "outputs": [
        {
          "output_type": "stream",
          "name": "stderr",
          "text": [
            "....\n",
            "----------------------------------------------------------------------\n",
            "Ran 4 tests in 0.007s\n",
            "\n",
            "OK\n"
          ]
        }
      ]
    },
    {
      "cell_type": "markdown",
      "id": "f38af38b",
      "metadata": {
        "id": "f38af38b"
      },
      "source": [
        "## Grading rubric (total 3 pts)\n",
        "- **Q1 (1.5 pts)**  \n",
        "  - (0.4) File I/O with `pathlib` + graceful `FileNotFoundError` handling  \n",
        "  - (0.5) Email validation (regex + strip + full match) and filtering  \n",
        "  - (0.4) Phone normalization and **case-insensitive** de-duplication (keep first)  \n",
        "  - (0.2) Code clarity (names, minimal docstrings/comments)\n",
        "- **Q2 (1.5 pts)**  \n",
        "  - (0.6) Meaningful coverage for email/phone functions (valid & invalid)  \n",
        "  - (0.6) Parsing & de-dup tests that assert exact expected rows  \n",
        "  - (0.3) Standard `unittest` structure and readable test names\n"
      ]
    }
  ],
  "metadata": {
    "colab": {
      "provenance": [],
      "include_colab_link": true
    },
    "language_info": {
      "name": "python"
    },
    "kernelspec": {
      "name": "python3",
      "display_name": "Python 3"
    }
  },
  "nbformat": 4,
  "nbformat_minor": 5
}