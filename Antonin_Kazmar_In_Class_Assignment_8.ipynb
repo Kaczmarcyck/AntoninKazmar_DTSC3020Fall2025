{
  "nbformat": 4,
  "nbformat_minor": 0,
  "metadata": {
    "colab": {
      "provenance": [],
      "include_colab_link": true
    },
    "kernelspec": {
      "name": "python3",
      "display_name": "Python 3"
    },
    "language_info": {
      "name": "python"
    }
  },
  "cells": [
    {
      "cell_type": "markdown",
      "metadata": {
        "id": "view-in-github",
        "colab_type": "text"
      },
      "source": [
        "<a href=\"https://colab.research.google.com/github/Kaczmarcyck/AntoninKazmar_DTSC3020Fall2025/blob/main/Antonin_Kazmar_In_Class_Assignment_8.ipynb\" target=\"_parent\"><img src=\"https://colab.research.google.com/assets/colab-badge.svg\" alt=\"Open In Colab\"/></a>"
      ]
    },
    {
      "cell_type": "markdown",
      "source": [
        "##Final Class Exercise"
      ],
      "metadata": {
        "id": "51gCuC6VJ3gu"
      }
    },
    {
      "cell_type": "markdown",
      "source": [
        "Write a Python function create_email(full_name) that builds a UNT email in the format\n",
        "firstname.lastname@my.unt.edu.\n",
        "\n",
        "Rules\n",
        "\n",
        " • Use the first and last word from full_name (case-insensitive).\n",
        "\n",
        " • Convert everything to lowercase.\n",
        "\n",
        " • If there is only one word, use it twice (e.g., \"ali\" → ali.ali@my.unt.edu).\n",
        "\n",
        " • Return the email string.\n",
        "\n",
        "\n",
        "Constraints\n",
        "\n",
        " • Use a function and return.\n",
        "\n",
        " • Do not use input() or external libraries.\n",
        "\n",
        "\n",
        " test your code with this list\n",
        " names = [\n",
        "    \"Sara Amini\",\n",
        "    \"Ali\",\n",
        "    \"Mary Jane\",\n",
        "    \"  John   Smith  \",\n",
        "    \"LINA\",\n",
        "    \"madonna\",\n",
        "    \"  sara   amini  \"\n",
        "]"
      ],
      "metadata": {
        "id": "7pxJ6i3jH7Yq"
      }
    },
    {
      "cell_type": "code",
      "source": [
        "def create_email(full_name):\n",
        "    words = full_name.lower().split()\n",
        "    if not words:\n",
        "        return \"\"\n",
        "    elif len(words) == 1:\n",
        "        first_name = words[0]\n",
        "        last_name = words[0]\n",
        "    else:\n",
        "        first_name = words[0]\n",
        "        last_name = words[-1]\n",
        "\n",
        "    return f\"{first_name}.{last_name}@my.unt.edu\"\n",
        "\n",
        "names = [\n",
        "    \"Sara Amini\",\n",
        "    \"Ali\",\n",
        "    \"Mary Jane\",\n",
        "    \"John Smith\",\n",
        "    \"Lina\",\n",
        "    \"Madonna\",\n",
        "    \"Sara Amini\",\n",
        "]\n",
        "\n",
        "for name in names:\n",
        "    email = create_email(name)\n",
        "    print(f\"If your name is '{name}', then your email is '{email}'\")"
      ],
      "metadata": {
        "id": "6jcH9Qm_IXWh",
        "colab": {
          "base_uri": "https://localhost:8080/"
        },
        "outputId": "3ea68163-b5d9-484d-b5ca-c09e949ca0b4"
      },
      "execution_count": 6,
      "outputs": [
        {
          "output_type": "stream",
          "name": "stdout",
          "text": [
            "If your name is 'Sara Amini', then your email is 'sara.amini@my.unt.edu'\n",
            "If your name is 'Ali', then your email is 'ali.ali@my.unt.edu'\n",
            "If your name is 'Mary Jane', then your email is 'mary.jane@my.unt.edu'\n",
            "If your name is 'John Smith', then your email is 'john.smith@my.unt.edu'\n",
            "If your name is 'Lina', then your email is 'lina.lina@my.unt.edu'\n",
            "If your name is 'Madonna', then your email is 'madonna.madonna@my.unt.edu'\n",
            "If your name is 'Sara Amini', then your email is 'sara.amini@my.unt.edu'\n"
          ]
        }
      ]
    }
  ]
}