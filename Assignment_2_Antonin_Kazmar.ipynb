{
  "nbformat": 4,
  "nbformat_minor": 0,
  "metadata": {
    "colab": {
      "provenance": []
    },
    "kernelspec": {
      "name": "python3",
      "display_name": "Python 3"
    },
    "language_info": {
      "name": "python"
    }
  },
  "cells": [
    {
      "cell_type": "code",
      "execution_count": 3,
      "metadata": {
        "colab": {
          "base_uri": "https://localhost:8080/"
        },
        "id": "I3o9WS6MPpZj",
        "outputId": "68b94191-567c-4431-ca79-da57ea746cc9"
      },
      "outputs": [
        {
          "output_type": "stream",
          "name": "stdout",
          "text": [
            "['banana', 'kiwi', 'apricot']\n",
            "banana\n",
            "kiwi\n",
            "apricot\n"
          ]
        }
      ],
      "source": [
        "fruits = ['banana', 'kiwi', 'apricot']\n",
        "print(fruits)\n",
        "print(fruits[0])\n",
        "print(fruits[1])\n",
        "print(fruits[2])"
      ]
    },
    {
      "cell_type": "code",
      "source": [
        "names = ['bobby', 'tony', 'marisol', 'sarah']\n",
        "names[0] = 'susan'\n",
        "print(names)"
      ],
      "metadata": {
        "colab": {
          "base_uri": "https://localhost:8080/"
        },
        "id": "vmRS4tZBRxlD",
        "outputId": "4f6bb5db-cd5c-4348-8656-79f36a540396"
      },
      "execution_count": 6,
      "outputs": [
        {
          "output_type": "stream",
          "name": "stdout",
          "text": [
            "['susan', 'tony', 'marisol', 'sarah']\n"
          ]
        }
      ]
    },
    {
      "cell_type": "code",
      "source": [
        "vehicles = ['truck', 'motorcycle', 'stroller', 'car', 'bus' ]\n",
        "vehicles.append('scooter')\n",
        "print(vehicles)"
      ],
      "metadata": {
        "colab": {
          "base_uri": "https://localhost:8080/"
        },
        "id": "mOP7_qAqSOV3",
        "outputId": "ac849b30-3dc3-4122-d31e-c67e39082985"
      },
      "execution_count": 9,
      "outputs": [
        {
          "output_type": "stream",
          "name": "stdout",
          "text": [
            "['truck', 'motorcycle', 'stroller', 'car', 'bus', 'scooter']\n"
          ]
        }
      ]
    },
    {
      "cell_type": "code",
      "source": [
        "foods = ['pineapple', 'ice cream', 'canned tuna', 'sugar', 'kit-kat', 'pizza']\n",
        "del foods[3]\n",
        "print(foods)"
      ],
      "metadata": {
        "colab": {
          "base_uri": "https://localhost:8080/"
        },
        "id": "bQNitN0STkBt",
        "outputId": "07cc2810-01f7-481b-e30d-022219d56314"
      },
      "execution_count": 10,
      "outputs": [
        {
          "output_type": "stream",
          "name": "stdout",
          "text": [
            "['pineapple', 'ice cream', 'canned tuna', 'kit-kat', 'pizza']\n"
          ]
        }
      ]
    },
    {
      "cell_type": "code",
      "source": [
        "animals = ['cats', 'dogs', 'fish']\n",
        "animals.reverse()\n",
        "print(animals)"
      ],
      "metadata": {
        "colab": {
          "base_uri": "https://localhost:8080/"
        },
        "id": "ERREkbM6T9yq",
        "outputId": "89956330-43a4-47ca-8b9b-9943114c639b"
      },
      "execution_count": 14,
      "outputs": [
        {
          "output_type": "stream",
          "name": "stdout",
          "text": [
            "['fish', 'dogs', 'cats']\n"
          ]
        }
      ]
    },
    {
      "cell_type": "code",
      "source": [
        "numbers = [1, 2, 3, 4, 5]\n",
        "for numbers in numbers:\n",
        "    print(numbers * 2)"
      ],
      "metadata": {
        "colab": {
          "base_uri": "https://localhost:8080/"
        },
        "id": "l8VOjpkYUgBv",
        "outputId": "f2ae6b3a-a478-4b3e-a765-2aca28f89fff"
      },
      "execution_count": 18,
      "outputs": [
        {
          "output_type": "stream",
          "name": "stdout",
          "text": [
            "2\n",
            "4\n",
            "6\n",
            "8\n",
            "10\n"
          ]
        }
      ]
    },
    {
      "cell_type": "code",
      "source": [
        "friends = ['marisol', 'reese', 'john', 'owen', 'lujan', 'kelsey']\n",
        "print (friends[0:3])\n",
        "print (friends[3:6])"
      ],
      "metadata": {
        "colab": {
          "base_uri": "https://localhost:8080/"
        },
        "id": "nxwEpGUfWSkK",
        "outputId": "905e8e15-99ed-43a2-ea13-cbff57feeb95"
      },
      "execution_count": 23,
      "outputs": [
        {
          "output_type": "stream",
          "name": "stdout",
          "text": [
            "['marisol', 'reese', 'john']\n",
            "['owen', 'lujan', 'kelsey']\n"
          ]
        }
      ]
    },
    {
      "cell_type": "code",
      "source": [
        "moreNumbers = list(range(1, 11))\n",
        "print(moreNumbers)"
      ],
      "metadata": {
        "colab": {
          "base_uri": "https://localhost:8080/"
        },
        "id": "fJSy9Xd7W1a0",
        "outputId": "6c627a67-076c-4dbf-e760-6ab73f2b74c0"
      },
      "execution_count": 27,
      "outputs": [
        {
          "output_type": "stream",
          "name": "stdout",
          "text": [
            "[1, 2, 3, 4, 5, 6, 7, 8, 9, 10]\n"
          ]
        }
      ]
    },
    {
      "cell_type": "code",
      "source": [
        "squares = [value**3 for value in range(1, 6)]\n",
        "print(squares)"
      ],
      "metadata": {
        "colab": {
          "base_uri": "https://localhost:8080/"
        },
        "id": "TTcOLMClXZmB",
        "outputId": "974b2abe-0a1b-48d4-8f5f-e1cabf32ce8a"
      },
      "execution_count": 29,
      "outputs": [
        {
          "output_type": "stream",
          "name": "stdout",
          "text": [
            "[1, 8, 27, 64, 125]\n"
          ]
        }
      ]
    }
  ]
}